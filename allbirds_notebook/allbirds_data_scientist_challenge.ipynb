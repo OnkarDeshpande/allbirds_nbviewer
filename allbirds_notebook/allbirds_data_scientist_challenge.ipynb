{
 "cells": [
  {
   "cell_type": "code",
   "execution_count": 1,
   "metadata": {},
   "outputs": [],
   "source": [
    "#Importing libraries, pandas for df and matplotlib for plotting graphs\n",
    "%matplotlib inline\n",
    "import pandas as pd\n",
    "import matplotlib.pyplot as plt\n",
    "\n",
    "##import fbprophet for forecasting sales and MLXTend for item\n",
    "from fbprophet import Prophet\n",
    "from mlxtend.preprocessing import TransactionEncoder\n",
    "from mlxtend.frequent_patterns import apriori\n",
    "\n",
    "\n",
    "##hiding loggs and warnings\n",
    "import logging\n",
    "logger = logging.getLogger()\n",
    "logger.setLevel(logging.CRITICAL)\n",
    "import warnings\n",
    "warnings.filterwarnings(\"ignore\")"
   ]
  },
  {
   "cell_type": "code",
   "execution_count": 2,
   "metadata": {},
   "outputs": [],
   "source": [
    "##filenames\n",
    "transc_data_file = 'dataset1.csv'\n",
    "traffic_data_file = 'dataset2.csv'\n",
    "\n",
    "##reading files in pandas dataframe\n",
    "transc_data = pd.read_csv(transc_data_file)\n",
    "traffic_data = pd.read_csv(traffic_data_file)"
   ]
  },
  {
   "cell_type": "markdown",
   "metadata": {},
   "source": [
    "Prior data manipulations:\n",
    "\n",
    "    1)Take care of date format\n",
    "    \n",
    "    2)Converting all the currency with respect to curr1"
   ]
  },
  {
   "cell_type": "code",
   "execution_count": 3,
   "metadata": {},
   "outputs": [],
   "source": [
    "##read the date column in datetime format\n",
    "transc_data['Order date'] = pd.to_datetime(transc_data['Order date'], format='%d%b%Y %H:%M:%f')\n",
    "\n",
    "##convert unit price and line_total in curr1\n",
    "transc_data.loc[transc_data['Order\\'s currency']=='Curr2', ['Unit Price', 'Line_Total']] *=0.6345\n",
    "transc_data.loc[transc_data['Order\\'s currency']=='Curr3', ['Unit Price', 'Line_Total']] *=0.4598\n"
   ]
  },
  {
   "cell_type": "code",
   "execution_count": 4,
   "metadata": {},
   "outputs": [
    {
     "data": {
      "text/html": [
       "<div>\n",
       "<style scoped>\n",
       "    .dataframe tbody tr th:only-of-type {\n",
       "        vertical-align: middle;\n",
       "    }\n",
       "\n",
       "    .dataframe tbody tr th {\n",
       "        vertical-align: top;\n",
       "    }\n",
       "\n",
       "    .dataframe thead th {\n",
       "        text-align: right;\n",
       "    }\n",
       "</style>\n",
       "<table border=\"1\" class=\"dataframe\">\n",
       "  <thead>\n",
       "    <tr style=\"text-align: right;\">\n",
       "      <th></th>\n",
       "      <th>Store_new</th>\n",
       "      <th>Order_ID</th>\n",
       "      <th>Line_ID</th>\n",
       "      <th>QTY</th>\n",
       "      <th>Order date</th>\n",
       "      <th>Item_was_refunded(1=Yes/0=No)</th>\n",
       "      <th>Returning_Customer (1=Yes/0=No)</th>\n",
       "      <th>Order's currency</th>\n",
       "      <th>Product</th>\n",
       "      <th>Gender</th>\n",
       "      <th>Brand Code</th>\n",
       "      <th>Size Code</th>\n",
       "      <th>Unit Price</th>\n",
       "      <th>Line_Total</th>\n",
       "    </tr>\n",
       "  </thead>\n",
       "  <tbody>\n",
       "    <tr>\n",
       "      <th>0</th>\n",
       "      <td>Store7</td>\n",
       "      <td>2600333511</td>\n",
       "      <td>4455787975</td>\n",
       "      <td>1</td>\n",
       "      <td>2016-02-26 16:47:00.460</td>\n",
       "      <td>0</td>\n",
       "      <td>0</td>\n",
       "      <td>Curr1</td>\n",
       "      <td>Footwear</td>\n",
       "      <td>M</td>\n",
       "      <td>ABC</td>\n",
       "      <td>110</td>\n",
       "      <td>43.0</td>\n",
       "      <td>43.0</td>\n",
       "    </tr>\n",
       "    <tr>\n",
       "      <th>1</th>\n",
       "      <td>Store7</td>\n",
       "      <td>2600350023</td>\n",
       "      <td>4455829063</td>\n",
       "      <td>1</td>\n",
       "      <td>2016-02-26 16:51:00.450</td>\n",
       "      <td>1</td>\n",
       "      <td>1</td>\n",
       "      <td>Curr1</td>\n",
       "      <td>Footwear</td>\n",
       "      <td>W</td>\n",
       "      <td>DGC</td>\n",
       "      <td>80</td>\n",
       "      <td>91.0</td>\n",
       "      <td>91.0</td>\n",
       "    </tr>\n",
       "    <tr>\n",
       "      <th>2</th>\n",
       "      <td>Store7</td>\n",
       "      <td>2621780295</td>\n",
       "      <td>4499950215</td>\n",
       "      <td>1</td>\n",
       "      <td>2016-02-29 18:38:00.230</td>\n",
       "      <td>0</td>\n",
       "      <td>1</td>\n",
       "      <td>Curr1</td>\n",
       "      <td>Clothing</td>\n",
       "      <td>M</td>\n",
       "      <td>SFG</td>\n",
       "      <td>90</td>\n",
       "      <td>90.0</td>\n",
       "      <td>90.0</td>\n",
       "    </tr>\n",
       "    <tr>\n",
       "      <th>3</th>\n",
       "      <td>Store7</td>\n",
       "      <td>2623558279</td>\n",
       "      <td>4503253447</td>\n",
       "      <td>1</td>\n",
       "      <td>2016-03-01 07:37:00.220</td>\n",
       "      <td>1</td>\n",
       "      <td>1</td>\n",
       "      <td>Curr1</td>\n",
       "      <td>Footwear</td>\n",
       "      <td>W</td>\n",
       "      <td>SNC</td>\n",
       "      <td>70</td>\n",
       "      <td>161.0</td>\n",
       "      <td>161.0</td>\n",
       "    </tr>\n",
       "    <tr>\n",
       "      <th>4</th>\n",
       "      <td>Store7</td>\n",
       "      <td>2623558279</td>\n",
       "      <td>4503253511</td>\n",
       "      <td>1</td>\n",
       "      <td>2016-03-01 07:37:00.220</td>\n",
       "      <td>0</td>\n",
       "      <td>1</td>\n",
       "      <td>Curr1</td>\n",
       "      <td>Footwear</td>\n",
       "      <td>M</td>\n",
       "      <td>KOO</td>\n",
       "      <td>100</td>\n",
       "      <td>100.0</td>\n",
       "      <td>100.0</td>\n",
       "    </tr>\n",
       "  </tbody>\n",
       "</table>\n",
       "</div>"
      ],
      "text/plain": [
       "  Store_new    Order_ID     Line_ID  QTY              Order date  \\\n",
       "0    Store7  2600333511  4455787975    1 2016-02-26 16:47:00.460   \n",
       "1    Store7  2600350023  4455829063    1 2016-02-26 16:51:00.450   \n",
       "2    Store7  2621780295  4499950215    1 2016-02-29 18:38:00.230   \n",
       "3    Store7  2623558279  4503253447    1 2016-03-01 07:37:00.220   \n",
       "4    Store7  2623558279  4503253511    1 2016-03-01 07:37:00.220   \n",
       "\n",
       "   Item_was_refunded(1=Yes/0=No)  Returning_Customer (1=Yes/0=No)  \\\n",
       "0                              0                                0   \n",
       "1                              1                                1   \n",
       "2                              0                                1   \n",
       "3                              1                                1   \n",
       "4                              0                                1   \n",
       "\n",
       "  Order's currency   Product Gender Brand Code  Size Code  Unit Price  \\\n",
       "0            Curr1  Footwear      M        ABC        110        43.0   \n",
       "1            Curr1  Footwear      W        DGC         80        91.0   \n",
       "2            Curr1  Clothing      M        SFG         90        90.0   \n",
       "3            Curr1  Footwear      W        SNC         70       161.0   \n",
       "4            Curr1  Footwear      M        KOO        100       100.0   \n",
       "\n",
       "   Line_Total  \n",
       "0        43.0  \n",
       "1        91.0  \n",
       "2        90.0  \n",
       "3       161.0  \n",
       "4       100.0  "
      ]
     },
     "execution_count": 4,
     "metadata": {},
     "output_type": "execute_result"
    }
   ],
   "source": [
    "#few rows of transaction data\n",
    "transc_data.head()"
   ]
  },
  {
   "cell_type": "code",
   "execution_count": 5,
   "metadata": {},
   "outputs": [],
   "source": [
    "##converting str col to integer\n",
    "traffic_data['Sessions'] = traffic_data['Sessions'].map(lambda x: int(x.replace(',','')))\n",
    "##read the date column as datetime format\n",
    "traffic_data['Date'] = pd.to_datetime(traffic_data['Date'], format='%Y%m%d').dt.date"
   ]
  },
  {
   "cell_type": "code",
   "execution_count": 6,
   "metadata": {},
   "outputs": [
    {
     "data": {
      "text/html": [
       "<div>\n",
       "<style scoped>\n",
       "    .dataframe tbody tr th:only-of-type {\n",
       "        vertical-align: middle;\n",
       "    }\n",
       "\n",
       "    .dataframe tbody tr th {\n",
       "        vertical-align: top;\n",
       "    }\n",
       "\n",
       "    .dataframe thead th {\n",
       "        text-align: right;\n",
       "    }\n",
       "</style>\n",
       "<table border=\"1\" class=\"dataframe\">\n",
       "  <thead>\n",
       "    <tr style=\"text-align: right;\">\n",
       "      <th></th>\n",
       "      <th>Default Channel Grouping</th>\n",
       "      <th>Date</th>\n",
       "      <th>Sessions</th>\n",
       "    </tr>\n",
       "  </thead>\n",
       "  <tbody>\n",
       "    <tr>\n",
       "      <th>0</th>\n",
       "      <td>Paid Search</td>\n",
       "      <td>2018-01-02</td>\n",
       "      <td>1382818</td>\n",
       "    </tr>\n",
       "    <tr>\n",
       "      <th>1</th>\n",
       "      <td>Email</td>\n",
       "      <td>2017-11-27</td>\n",
       "      <td>769601</td>\n",
       "    </tr>\n",
       "    <tr>\n",
       "      <th>2</th>\n",
       "      <td>Organic Search</td>\n",
       "      <td>2017-04-23</td>\n",
       "      <td>321059</td>\n",
       "    </tr>\n",
       "    <tr>\n",
       "      <th>3</th>\n",
       "      <td>Organic Search</td>\n",
       "      <td>2018-01-02</td>\n",
       "      <td>293785</td>\n",
       "    </tr>\n",
       "    <tr>\n",
       "      <th>4</th>\n",
       "      <td>Email</td>\n",
       "      <td>2017-11-07</td>\n",
       "      <td>572020</td>\n",
       "    </tr>\n",
       "  </tbody>\n",
       "</table>\n",
       "</div>"
      ],
      "text/plain": [
       "  Default Channel Grouping        Date  Sessions\n",
       "0              Paid Search  2018-01-02   1382818\n",
       "1                    Email  2017-11-27    769601\n",
       "2           Organic Search  2017-04-23    321059\n",
       "3           Organic Search  2018-01-02    293785\n",
       "4                    Email  2017-11-07    572020"
      ]
     },
     "execution_count": 6,
     "metadata": {},
     "output_type": "execute_result"
    }
   ],
   "source": [
    "#few rows of site traffic data\n",
    "traffic_data.head()"
   ]
  },
  {
   "cell_type": "markdown",
   "metadata": {},
   "source": [
    "# Data Summaries:\n",
    "\n",
    "\n",
    "### (1) Provide basic data summary for database 1 and 2 (eg. Mean, median, mode, std. dev., etc.). Please state if you find anything interesting or odd."
   ]
  },
  {
   "cell_type": "code",
   "execution_count": 7,
   "metadata": {},
   "outputs": [
    {
     "data": {
      "text/html": [
       "<div>\n",
       "<style scoped>\n",
       "    .dataframe tbody tr th:only-of-type {\n",
       "        vertical-align: middle;\n",
       "    }\n",
       "\n",
       "    .dataframe tbody tr th {\n",
       "        vertical-align: top;\n",
       "    }\n",
       "\n",
       "    .dataframe thead th {\n",
       "        text-align: right;\n",
       "    }\n",
       "</style>\n",
       "<table border=\"1\" class=\"dataframe\">\n",
       "  <thead>\n",
       "    <tr style=\"text-align: right;\">\n",
       "      <th></th>\n",
       "      <th>QTY</th>\n",
       "      <th>Size Code</th>\n",
       "      <th>Unit Price</th>\n",
       "      <th>Line_Total</th>\n",
       "    </tr>\n",
       "  </thead>\n",
       "  <tbody>\n",
       "    <tr>\n",
       "      <th>count</th>\n",
       "      <td>9999.000000</td>\n",
       "      <td>9999.000000</td>\n",
       "      <td>9999.000000</td>\n",
       "      <td>9999.000000</td>\n",
       "    </tr>\n",
       "    <tr>\n",
       "      <th>mean</th>\n",
       "      <td>1.099610</td>\n",
       "      <td>91.494149</td>\n",
       "      <td>105.646269</td>\n",
       "      <td>116.084121</td>\n",
       "    </tr>\n",
       "    <tr>\n",
       "      <th>std</th>\n",
       "      <td>0.914027</td>\n",
       "      <td>22.740958</td>\n",
       "      <td>79.978740</td>\n",
       "      <td>131.062981</td>\n",
       "    </tr>\n",
       "    <tr>\n",
       "      <th>min</th>\n",
       "      <td>1.000000</td>\n",
       "      <td>0.000000</td>\n",
       "      <td>7.614000</td>\n",
       "      <td>7.614000</td>\n",
       "    </tr>\n",
       "    <tr>\n",
       "      <th>25%</th>\n",
       "      <td>1.000000</td>\n",
       "      <td>80.000000</td>\n",
       "      <td>36.000000</td>\n",
       "      <td>36.000000</td>\n",
       "    </tr>\n",
       "    <tr>\n",
       "      <th>50%</th>\n",
       "      <td>1.000000</td>\n",
       "      <td>90.000000</td>\n",
       "      <td>68.000000</td>\n",
       "      <td>70.000000</td>\n",
       "    </tr>\n",
       "    <tr>\n",
       "      <th>75%</th>\n",
       "      <td>1.000000</td>\n",
       "      <td>110.000000</td>\n",
       "      <td>195.000000</td>\n",
       "      <td>202.000000</td>\n",
       "    </tr>\n",
       "    <tr>\n",
       "      <th>max</th>\n",
       "      <td>60.000000</td>\n",
       "      <td>140.000000</td>\n",
       "      <td>249.000000</td>\n",
       "      <td>5346.000000</td>\n",
       "    </tr>\n",
       "  </tbody>\n",
       "</table>\n",
       "</div>"
      ],
      "text/plain": [
       "               QTY    Size Code   Unit Price   Line_Total\n",
       "count  9999.000000  9999.000000  9999.000000  9999.000000\n",
       "mean      1.099610    91.494149   105.646269   116.084121\n",
       "std       0.914027    22.740958    79.978740   131.062981\n",
       "min       1.000000     0.000000     7.614000     7.614000\n",
       "25%       1.000000    80.000000    36.000000    36.000000\n",
       "50%       1.000000    90.000000    68.000000    70.000000\n",
       "75%       1.000000   110.000000   195.000000   202.000000\n",
       "max      60.000000   140.000000   249.000000  5346.000000"
      ]
     },
     "execution_count": 7,
     "metadata": {},
     "output_type": "execute_result"
    }
   ],
   "source": [
    "##data summary for transaction day\n",
    "transc_data[['QTY', 'Size Code', 'Unit Price', 'Line_Total']].describe()"
   ]
  },
  {
   "cell_type": "code",
   "execution_count": 8,
   "metadata": {},
   "outputs": [
    {
     "data": {
      "text/html": [
       "<div>\n",
       "<style scoped>\n",
       "    .dataframe tbody tr th:only-of-type {\n",
       "        vertical-align: middle;\n",
       "    }\n",
       "\n",
       "    .dataframe tbody tr th {\n",
       "        vertical-align: top;\n",
       "    }\n",
       "\n",
       "    .dataframe thead tr th {\n",
       "        text-align: left;\n",
       "    }\n",
       "\n",
       "    .dataframe thead tr:last-of-type th {\n",
       "        text-align: right;\n",
       "    }\n",
       "</style>\n",
       "<table border=\"1\" class=\"dataframe\">\n",
       "  <thead>\n",
       "    <tr>\n",
       "      <th></th>\n",
       "      <th colspan=\"5\" halign=\"left\">Sessions</th>\n",
       "    </tr>\n",
       "    <tr>\n",
       "      <th></th>\n",
       "      <th>mean</th>\n",
       "      <th>std</th>\n",
       "      <th>median</th>\n",
       "      <th>min</th>\n",
       "      <th>max</th>\n",
       "    </tr>\n",
       "    <tr>\n",
       "      <th>Default Channel Grouping</th>\n",
       "      <th></th>\n",
       "      <th></th>\n",
       "      <th></th>\n",
       "      <th></th>\n",
       "      <th></th>\n",
       "    </tr>\n",
       "  </thead>\n",
       "  <tbody>\n",
       "    <tr>\n",
       "      <th>(Other)</th>\n",
       "      <td>16295.398230</td>\n",
       "      <td>30703.331697</td>\n",
       "      <td>10600.5</td>\n",
       "      <td>6</td>\n",
       "      <td>285137</td>\n",
       "    </tr>\n",
       "    <tr>\n",
       "      <th>Affiliates</th>\n",
       "      <td>85025.642857</td>\n",
       "      <td>39758.406473</td>\n",
       "      <td>81695.0</td>\n",
       "      <td>29720</td>\n",
       "      <td>190378</td>\n",
       "    </tr>\n",
       "    <tr>\n",
       "      <th>Direct</th>\n",
       "      <td>19104.066810</td>\n",
       "      <td>12720.961935</td>\n",
       "      <td>16064.5</td>\n",
       "      <td>4415</td>\n",
       "      <td>123506</td>\n",
       "    </tr>\n",
       "    <tr>\n",
       "      <th>Display</th>\n",
       "      <td>31646.171429</td>\n",
       "      <td>37936.551841</td>\n",
       "      <td>13345.0</td>\n",
       "      <td>31</td>\n",
       "      <td>144346</td>\n",
       "    </tr>\n",
       "    <tr>\n",
       "      <th>Email</th>\n",
       "      <td>19904.392241</td>\n",
       "      <td>63633.329595</td>\n",
       "      <td>4440.0</td>\n",
       "      <td>528</td>\n",
       "      <td>769601</td>\n",
       "    </tr>\n",
       "    <tr>\n",
       "      <th>Organic Search</th>\n",
       "      <td>39948.887931</td>\n",
       "      <td>25923.897325</td>\n",
       "      <td>35504.0</td>\n",
       "      <td>9640</td>\n",
       "      <td>321059</td>\n",
       "    </tr>\n",
       "    <tr>\n",
       "      <th>Other Advertising</th>\n",
       "      <td>107484.266667</td>\n",
       "      <td>47711.219649</td>\n",
       "      <td>137344.0</td>\n",
       "      <td>24429</td>\n",
       "      <td>164599</td>\n",
       "    </tr>\n",
       "    <tr>\n",
       "      <th>Paid Search</th>\n",
       "      <td>90251.892241</td>\n",
       "      <td>81177.830383</td>\n",
       "      <td>74616.0</td>\n",
       "      <td>17352</td>\n",
       "      <td>1382818</td>\n",
       "    </tr>\n",
       "    <tr>\n",
       "      <th>Paid Social</th>\n",
       "      <td>43993.178571</td>\n",
       "      <td>34054.099917</td>\n",
       "      <td>32756.5</td>\n",
       "      <td>12189</td>\n",
       "      <td>173309</td>\n",
       "    </tr>\n",
       "    <tr>\n",
       "      <th>Referral</th>\n",
       "      <td>64495.215517</td>\n",
       "      <td>34670.566827</td>\n",
       "      <td>57789.0</td>\n",
       "      <td>9872</td>\n",
       "      <td>289985</td>\n",
       "    </tr>\n",
       "    <tr>\n",
       "      <th>Social</th>\n",
       "      <td>2816.739224</td>\n",
       "      <td>1405.892242</td>\n",
       "      <td>2493.0</td>\n",
       "      <td>782</td>\n",
       "      <td>10439</td>\n",
       "    </tr>\n",
       "  </tbody>\n",
       "</table>\n",
       "</div>"
      ],
      "text/plain": [
       "                               Sessions                                 \\\n",
       "                                   mean           std    median    min   \n",
       "Default Channel Grouping                                                 \n",
       "(Other)                    16295.398230  30703.331697   10600.5      6   \n",
       "Affiliates                 85025.642857  39758.406473   81695.0  29720   \n",
       "Direct                     19104.066810  12720.961935   16064.5   4415   \n",
       "Display                    31646.171429  37936.551841   13345.0     31   \n",
       "Email                      19904.392241  63633.329595    4440.0    528   \n",
       "Organic Search             39948.887931  25923.897325   35504.0   9640   \n",
       "Other Advertising         107484.266667  47711.219649  137344.0  24429   \n",
       "Paid Search                90251.892241  81177.830383   74616.0  17352   \n",
       "Paid Social                43993.178571  34054.099917   32756.5  12189   \n",
       "Referral                   64495.215517  34670.566827   57789.0   9872   \n",
       "Social                      2816.739224   1405.892242    2493.0    782   \n",
       "\n",
       "                                   \n",
       "                              max  \n",
       "Default Channel Grouping           \n",
       "(Other)                    285137  \n",
       "Affiliates                 190378  \n",
       "Direct                     123506  \n",
       "Display                    144346  \n",
       "Email                      769601  \n",
       "Organic Search             321059  \n",
       "Other Advertising          164599  \n",
       "Paid Search               1382818  \n",
       "Paid Social                173309  \n",
       "Referral                   289985  \n",
       "Social                      10439  "
      ]
     },
     "execution_count": 8,
     "metadata": {},
     "output_type": "execute_result"
    }
   ],
   "source": [
    "##data summary for sessions data\n",
    "traffic_data[['Default Channel Grouping','Sessions']].groupby(['Default Channel Grouping']).agg(['mean','std', 'median','min','max'])"
   ]
  },
  {
   "cell_type": "markdown",
   "metadata": {},
   "source": [
    "# Main Questions:\n",
    "\n",
    "### (2) What % of total orders have 1 item, 2 items and 3+ items?"
   ]
  },
  {
   "cell_type": "code",
   "execution_count": 9,
   "metadata": {},
   "outputs": [
    {
     "name": "stdout",
     "output_type": "stream",
     "text": [
      "Percent of orders with 1 item:\n",
      "87.61 %\n",
      "Percent of orders with 2 items:\n",
      "9.29 %\n",
      "Percent of orders with over 2 items:\n",
      "3.1 %\n"
     ]
    }
   ],
   "source": [
    "##Unique number of orders\n",
    "total = transc_data['Order_ID'].unique().shape[0]\n",
    "\n",
    "##grouping by order ID counting the number of items in each order\n",
    "order_count = transc_data[['Order_ID', 'Line_ID']].groupby(['Order_ID']).count()\n",
    "order_count.columns = ['count_items']\n",
    "\n",
    "##percent of orders with 1,2 or 3+ items\n",
    "print(\"Percent of orders with 1 item:\")\n",
    "print(round(order_count.loc[order_count['count_items']==1].shape[0]/total*100,2),\"%\")\n",
    "print(\"Percent of orders with 2 items:\")\n",
    "print(round(order_count.loc[order_count['count_items']==2].shape[0]/total*100,2),\"%\")\n",
    "print(\"Percent of orders with over 2 items:\")\n",
    "print(round(order_count.loc[order_count['count_items']>=3].shape[0]/total*100,2),\"%\")"
   ]
  },
  {
   "cell_type": "markdown",
   "metadata": {},
   "source": [
    "### (3)  Do new customers have a different number items per order then returning customers?\n"
   ]
  },
  {
   "cell_type": "code",
   "execution_count": 10,
   "metadata": {},
   "outputs": [
    {
     "name": "stdout",
     "output_type": "stream",
     "text": [
      "Average number of items for new customers:\n",
      "1.17\n",
      "Average number of items for returning customers:\n",
      "1.17\n"
     ]
    }
   ],
   "source": [
    "##grouping by order id and keeping a check for returning customers\n",
    "order_sum_returning = transc_data[['Order_ID',\n",
    "                                   'Returning_Customer (1=Yes/0=No)','Line_ID']].groupby([\n",
    "                                                        'Order_ID',\n",
    "                                                        'Returning_Customer (1=Yes/0=No)']).count()\n",
    "\n",
    "order_sum_returning = order_sum_returning.reset_index()\n",
    "order_sum_returning.columns = ['Order_ID','Returning_Customer','count_items']\n",
    "print('Average number of items for new customers:')\n",
    "print(round(order_sum_returning.loc[order_sum_returning['Returning_Customer'] == 0].mean()[2],2))\n",
    "print('Average number of items for returning customers:')\n",
    "print(round(order_sum_returning.loc[order_sum_returning['Returning_Customer'] == 1].mean()[2],2))"
   ]
  },
  {
   "cell_type": "markdown",
   "metadata": {},
   "source": [
    "**There is not much difference in number of items per order for new vs returning customers.**"
   ]
  },
  {
   "cell_type": "markdown",
   "metadata": {},
   "source": [
    "### (4) Which store has the highest % of new customers? Which has least?\n"
   ]
  },
  {
   "cell_type": "code",
   "execution_count": 11,
   "metadata": {},
   "outputs": [
    {
     "data": {
      "text/html": [
       "<div>\n",
       "<style scoped>\n",
       "    .dataframe tbody tr th:only-of-type {\n",
       "        vertical-align: middle;\n",
       "    }\n",
       "\n",
       "    .dataframe tbody tr th {\n",
       "        vertical-align: top;\n",
       "    }\n",
       "\n",
       "    .dataframe thead th {\n",
       "        text-align: right;\n",
       "    }\n",
       "</style>\n",
       "<table border=\"1\" class=\"dataframe\">\n",
       "  <thead>\n",
       "    <tr style=\"text-align: right;\">\n",
       "      <th></th>\n",
       "      <th>count</th>\n",
       "      <th>sum</th>\n",
       "      <th>new</th>\n",
       "      <th>new_percent</th>\n",
       "    </tr>\n",
       "    <tr>\n",
       "      <th>Store_new</th>\n",
       "      <th></th>\n",
       "      <th></th>\n",
       "      <th></th>\n",
       "      <th></th>\n",
       "    </tr>\n",
       "  </thead>\n",
       "  <tbody>\n",
       "    <tr>\n",
       "      <th>Store1</th>\n",
       "      <td>22</td>\n",
       "      <td>0</td>\n",
       "      <td>22</td>\n",
       "      <td>100.000000</td>\n",
       "    </tr>\n",
       "    <tr>\n",
       "      <th>Store2</th>\n",
       "      <td>6</td>\n",
       "      <td>0</td>\n",
       "      <td>6</td>\n",
       "      <td>100.000000</td>\n",
       "    </tr>\n",
       "    <tr>\n",
       "      <th>Store3</th>\n",
       "      <td>435</td>\n",
       "      <td>0</td>\n",
       "      <td>435</td>\n",
       "      <td>100.000000</td>\n",
       "    </tr>\n",
       "    <tr>\n",
       "      <th>Store4</th>\n",
       "      <td>357</td>\n",
       "      <td>0</td>\n",
       "      <td>357</td>\n",
       "      <td>100.000000</td>\n",
       "    </tr>\n",
       "    <tr>\n",
       "      <th>Store5</th>\n",
       "      <td>377</td>\n",
       "      <td>68</td>\n",
       "      <td>309</td>\n",
       "      <td>81.962865</td>\n",
       "    </tr>\n",
       "    <tr>\n",
       "      <th>Store6</th>\n",
       "      <td>2</td>\n",
       "      <td>2</td>\n",
       "      <td>0</td>\n",
       "      <td>0.000000</td>\n",
       "    </tr>\n",
       "    <tr>\n",
       "      <th>Store7</th>\n",
       "      <td>7357</td>\n",
       "      <td>3152</td>\n",
       "      <td>4205</td>\n",
       "      <td>57.156450</td>\n",
       "    </tr>\n",
       "  </tbody>\n",
       "</table>\n",
       "</div>"
      ],
      "text/plain": [
       "           count   sum   new  new_percent\n",
       "Store_new                                \n",
       "Store1        22     0    22   100.000000\n",
       "Store2         6     0     6   100.000000\n",
       "Store3       435     0   435   100.000000\n",
       "Store4       357     0   357   100.000000\n",
       "Store5       377    68   309    81.962865\n",
       "Store6         2     2     0     0.000000\n",
       "Store7      7357  3152  4205    57.156450"
      ]
     },
     "execution_count": 11,
     "metadata": {},
     "output_type": "execute_result"
    }
   ],
   "source": [
    "##grouping with order id so we don't count same order twice.\n",
    "##Further grouping by each store, count the number of new customers find the percentage\n",
    "ret_cus_data = transc_data[['Order_ID',\n",
    "                            'Store_new', \n",
    "                            'Returning_Customer (1=Yes/0=No)']].groupby(['Order_ID',\n",
    "                                                                         'Store_new',\n",
    "                                                            'Returning_Customer (1=Yes/0=No)']).count()\n",
    "ret_cus_data = ret_cus_data.reset_index()\n",
    "ret_cus_data = ret_cus_data[['Store_new', 'Returning_Customer (1=Yes/0=No)']].groupby('Store_new').agg(['count','sum'])\n",
    "ret_cus_data.columns = ['count','sum']\n",
    "ret_cus_data['new'] = ret_cus_data['count']-ret_cus_data['sum']\n",
    "ret_cus_data['new_percent'] = ret_cus_data['new']/ret_cus_data['count'] *100\n",
    "ret_cus_data"
   ]
  },
  {
   "cell_type": "markdown",
   "metadata": {},
   "source": [
    "**Store1,Store2,Store3 and Store4** have the **highest percent of new customers**, **Store6** has the **least percent of new customers**"
   ]
  },
  {
   "cell_type": "markdown",
   "metadata": {},
   "source": [
    "### (5) Is there any store which has unusually high or low return rates (defined as total return dollars/total gross sales dollars)?\n"
   ]
  },
  {
   "cell_type": "code",
   "execution_count": 12,
   "metadata": {},
   "outputs": [
    {
     "name": "stdout",
     "output_type": "stream",
     "text": [
      "Return percent in Store1:\n",
      "16.93 %\n",
      "Return percent in Store2:\n",
      "53.45 %\n",
      "Return percent in Store3:\n",
      "21.17 %\n",
      "Return percent in Store4:\n",
      "20.33 %\n",
      "Return percent in Store5:\n",
      "23.59 %\n",
      "Return percent in Store6:\n",
      "100.0 %\n",
      "Return percent in Store7:\n",
      "20.4 %\n"
     ]
    }
   ],
   "source": [
    "##return of single item is different than return of entire order. \n",
    "##(assumed that only one item is returned and not the entire order)\n",
    "\n",
    "for item in ret_cus_data.index:\n",
    "    tmp = transc_data[['Store_new',\n",
    "                       'Item_was_refunded(1=Yes/0=No)',\n",
    "                       'Line_Total']].loc[transc_data[\n",
    "                                             'Store_new']==item].groupby([\n",
    "                                                                   'Item_was_refunded(1=Yes/0=No)']).sum()\n",
    "    print(\"Return percent in \" + item + ':')\n",
    "    print(round(tmp.loc[1][0]/tmp.sum().values[0]*100,2),\"%\")    "
   ]
  },
  {
   "cell_type": "markdown",
   "metadata": {},
   "source": [
    "**Store6 has 100% returns and Store1 has 16% returns**"
   ]
  },
  {
   "cell_type": "markdown",
   "metadata": {},
   "source": [
    "### (6) Is there any product which has an unusually high or low return rate?\n"
   ]
  },
  {
   "cell_type": "code",
   "execution_count": 13,
   "metadata": {},
   "outputs": [
    {
     "data": {
      "text/html": [
       "<div>\n",
       "<style scoped>\n",
       "    .dataframe tbody tr th:only-of-type {\n",
       "        vertical-align: middle;\n",
       "    }\n",
       "\n",
       "    .dataframe tbody tr th {\n",
       "        vertical-align: top;\n",
       "    }\n",
       "\n",
       "    .dataframe thead th {\n",
       "        text-align: right;\n",
       "    }\n",
       "</style>\n",
       "<table border=\"1\" class=\"dataframe\">\n",
       "  <thead>\n",
       "    <tr style=\"text-align: right;\">\n",
       "      <th></th>\n",
       "      <th>count</th>\n",
       "      <th>sum</th>\n",
       "      <th>return order percent</th>\n",
       "    </tr>\n",
       "    <tr>\n",
       "      <th>Product</th>\n",
       "      <th></th>\n",
       "      <th></th>\n",
       "      <th></th>\n",
       "    </tr>\n",
       "  </thead>\n",
       "  <tbody>\n",
       "    <tr>\n",
       "      <th>Accessories</th>\n",
       "      <td>90</td>\n",
       "      <td>17</td>\n",
       "      <td>18.888889</td>\n",
       "    </tr>\n",
       "    <tr>\n",
       "      <th>Clothing</th>\n",
       "      <td>1504</td>\n",
       "      <td>293</td>\n",
       "      <td>19.481383</td>\n",
       "    </tr>\n",
       "    <tr>\n",
       "      <th>Footwear</th>\n",
       "      <td>8186</td>\n",
       "      <td>1660</td>\n",
       "      <td>20.278524</td>\n",
       "    </tr>\n",
       "    <tr>\n",
       "      <th>Houseware</th>\n",
       "      <td>68</td>\n",
       "      <td>18</td>\n",
       "      <td>26.470588</td>\n",
       "    </tr>\n",
       "    <tr>\n",
       "      <th>Perfumes</th>\n",
       "      <td>151</td>\n",
       "      <td>39</td>\n",
       "      <td>25.827815</td>\n",
       "    </tr>\n",
       "  </tbody>\n",
       "</table>\n",
       "</div>"
      ],
      "text/plain": [
       "             count   sum  return order percent\n",
       "Product                                       \n",
       "Accessories     90    17             18.888889\n",
       "Clothing      1504   293             19.481383\n",
       "Footwear      8186  1660             20.278524\n",
       "Houseware       68    18             26.470588\n",
       "Perfumes       151    39             25.827815"
      ]
     },
     "execution_count": 13,
     "metadata": {},
     "output_type": "execute_result"
    }
   ],
   "source": [
    "##Grouping with products and then finding the count and sum of the items refunded\n",
    "##finding the return percentage\n",
    "ret_prod_data = transc_data[['Product',\n",
    "                             'Item_was_refunded(1=Yes/0=No)']].groupby('Product').agg(['count','sum'])\n",
    "ret_prod_data.columns = ['count','sum']\n",
    "ret_prod_data['return order percent'] = ret_prod_data['sum']/ret_prod_data['count'] *100\n",
    "ret_prod_data"
   ]
  },
  {
   "cell_type": "markdown",
   "metadata": {},
   "source": [
    "**No, the return percent are similar. Though Houseware has higest return order percent and Accessories has the least.**"
   ]
  },
  {
   "cell_type": "markdown",
   "metadata": {},
   "source": [
    "### (7) What is the average order value and median order value? Which is most indicative of customer behavior (mean or median), and why? Does this vary by store?\n"
   ]
  },
  {
   "cell_type": "code",
   "execution_count": 14,
   "metadata": {},
   "outputs": [
    {
     "data": {
      "text/html": [
       "<div>\n",
       "<style scoped>\n",
       "    .dataframe tbody tr th:only-of-type {\n",
       "        vertical-align: middle;\n",
       "    }\n",
       "\n",
       "    .dataframe tbody tr th {\n",
       "        vertical-align: top;\n",
       "    }\n",
       "\n",
       "    .dataframe thead th {\n",
       "        text-align: right;\n",
       "    }\n",
       "</style>\n",
       "<table border=\"1\" class=\"dataframe\">\n",
       "  <thead>\n",
       "    <tr style=\"text-align: right;\">\n",
       "      <th></th>\n",
       "      <th>Line_Total</th>\n",
       "    </tr>\n",
       "  </thead>\n",
       "  <tbody>\n",
       "    <tr>\n",
       "      <th>count</th>\n",
       "      <td>9999.000000</td>\n",
       "    </tr>\n",
       "    <tr>\n",
       "      <th>mean</th>\n",
       "      <td>116.084121</td>\n",
       "    </tr>\n",
       "    <tr>\n",
       "      <th>std</th>\n",
       "      <td>131.062981</td>\n",
       "    </tr>\n",
       "    <tr>\n",
       "      <th>min</th>\n",
       "      <td>7.614000</td>\n",
       "    </tr>\n",
       "    <tr>\n",
       "      <th>25%</th>\n",
       "      <td>36.000000</td>\n",
       "    </tr>\n",
       "    <tr>\n",
       "      <th>50%</th>\n",
       "      <td>70.000000</td>\n",
       "    </tr>\n",
       "    <tr>\n",
       "      <th>75%</th>\n",
       "      <td>202.000000</td>\n",
       "    </tr>\n",
       "    <tr>\n",
       "      <th>max</th>\n",
       "      <td>5346.000000</td>\n",
       "    </tr>\n",
       "  </tbody>\n",
       "</table>\n",
       "</div>"
      ],
      "text/plain": [
       "        Line_Total\n",
       "count  9999.000000\n",
       "mean    116.084121\n",
       "std     131.062981\n",
       "min       7.614000\n",
       "25%      36.000000\n",
       "50%      70.000000\n",
       "75%     202.000000\n",
       "max    5346.000000"
      ]
     },
     "execution_count": 14,
     "metadata": {},
     "output_type": "execute_result"
    }
   ],
   "source": [
    "#The returns from this are not excluded while calculating this value\n",
    "##from question 1\n",
    "transc_data[['Line_Total']].describe()  "
   ]
  },
  {
   "cell_type": "markdown",
   "metadata": {},
   "source": [
    "**Median:\n",
    "70.0 **\n",
    "\n",
    "and\n",
    "\n",
    "**Mean is: \n",
    "116.08 **"
   ]
  },
  {
   "cell_type": "code",
   "execution_count": 15,
   "metadata": {},
   "outputs": [
    {
     "data": {
      "text/html": [
       "<div>\n",
       "<style scoped>\n",
       "    .dataframe tbody tr th:only-of-type {\n",
       "        vertical-align: middle;\n",
       "    }\n",
       "\n",
       "    .dataframe tbody tr th {\n",
       "        vertical-align: top;\n",
       "    }\n",
       "\n",
       "    .dataframe thead tr th {\n",
       "        text-align: left;\n",
       "    }\n",
       "\n",
       "    .dataframe thead tr:last-of-type th {\n",
       "        text-align: right;\n",
       "    }\n",
       "</style>\n",
       "<table border=\"1\" class=\"dataframe\">\n",
       "  <thead>\n",
       "    <tr>\n",
       "      <th></th>\n",
       "      <th colspan=\"2\" halign=\"left\">Line_Total</th>\n",
       "    </tr>\n",
       "    <tr>\n",
       "      <th></th>\n",
       "      <th>mean</th>\n",
       "      <th>median</th>\n",
       "    </tr>\n",
       "    <tr>\n",
       "      <th>Store_new</th>\n",
       "      <th></th>\n",
       "      <th></th>\n",
       "    </tr>\n",
       "  </thead>\n",
       "  <tbody>\n",
       "    <tr>\n",
       "      <th>Store1</th>\n",
       "      <td>49.280707</td>\n",
       "      <td>23.21990</td>\n",
       "    </tr>\n",
       "    <tr>\n",
       "      <th>Store2</th>\n",
       "      <td>59.927267</td>\n",
       "      <td>62.07300</td>\n",
       "    </tr>\n",
       "    <tr>\n",
       "      <th>Store3</th>\n",
       "      <td>76.102232</td>\n",
       "      <td>54.24975</td>\n",
       "    </tr>\n",
       "    <tr>\n",
       "      <th>Store4</th>\n",
       "      <td>78.819000</td>\n",
       "      <td>53.93250</td>\n",
       "    </tr>\n",
       "    <tr>\n",
       "      <th>Store5</th>\n",
       "      <td>116.601351</td>\n",
       "      <td>72.00000</td>\n",
       "    </tr>\n",
       "    <tr>\n",
       "      <th>Store6</th>\n",
       "      <td>146.000000</td>\n",
       "      <td>146.00000</td>\n",
       "    </tr>\n",
       "    <tr>\n",
       "      <th>Store7</th>\n",
       "      <td>120.574761</td>\n",
       "      <td>75.00000</td>\n",
       "    </tr>\n",
       "  </tbody>\n",
       "</table>\n",
       "</div>"
      ],
      "text/plain": [
       "           Line_Total           \n",
       "                 mean     median\n",
       "Store_new                       \n",
       "Store1      49.280707   23.21990\n",
       "Store2      59.927267   62.07300\n",
       "Store3      76.102232   54.24975\n",
       "Store4      78.819000   53.93250\n",
       "Store5     116.601351   72.00000\n",
       "Store6     146.000000  146.00000\n",
       "Store7     120.574761   75.00000"
      ]
     },
     "execution_count": 15,
     "metadata": {},
     "output_type": "execute_result"
    }
   ],
   "source": [
    "transc_data[['Store_new', 'Line_Total']].groupby(['Store_new']).agg(['mean','median'])"
   ]
  },
  {
   "cell_type": "markdown",
   "metadata": {},
   "source": [
    "**Yes, we can see a clear increase in mean and meadian for order value.**"
   ]
  },
  {
   "cell_type": "markdown",
   "metadata": {},
   "source": [
    "### (8) Is there any product or Brand that over indexes on customer acquisition? If yes, which one?\n"
   ]
  },
  {
   "cell_type": "markdown",
   "metadata": {},
   "source": [
    "**Assumption:**\n",
    "\n",
    "\"indexes on customer acquisition\":\n",
    "\n",
    "    A particular product/brand that gets the customer acquired on the site."
   ]
  },
  {
   "cell_type": "code",
   "execution_count": 16,
   "metadata": {},
   "outputs": [
    {
     "data": {
      "text/html": [
       "<div>\n",
       "<style scoped>\n",
       "    .dataframe tbody tr th:only-of-type {\n",
       "        vertical-align: middle;\n",
       "    }\n",
       "\n",
       "    .dataframe tbody tr th {\n",
       "        vertical-align: top;\n",
       "    }\n",
       "\n",
       "    .dataframe thead th {\n",
       "        text-align: right;\n",
       "    }\n",
       "</style>\n",
       "<table border=\"1\" class=\"dataframe\">\n",
       "  <thead>\n",
       "    <tr style=\"text-align: right;\">\n",
       "      <th></th>\n",
       "      <th>total_count</th>\n",
       "      <th>return_count</th>\n",
       "      <th>new_cust</th>\n",
       "    </tr>\n",
       "    <tr>\n",
       "      <th>Product</th>\n",
       "      <th></th>\n",
       "      <th></th>\n",
       "      <th></th>\n",
       "    </tr>\n",
       "  </thead>\n",
       "  <tbody>\n",
       "    <tr>\n",
       "      <th>Footwear</th>\n",
       "      <td>8186</td>\n",
       "      <td>3147</td>\n",
       "      <td>5039</td>\n",
       "    </tr>\n",
       "    <tr>\n",
       "      <th>Clothing</th>\n",
       "      <td>1504</td>\n",
       "      <td>528</td>\n",
       "      <td>976</td>\n",
       "    </tr>\n",
       "    <tr>\n",
       "      <th>Perfumes</th>\n",
       "      <td>151</td>\n",
       "      <td>50</td>\n",
       "      <td>101</td>\n",
       "    </tr>\n",
       "    <tr>\n",
       "      <th>Accessories</th>\n",
       "      <td>90</td>\n",
       "      <td>37</td>\n",
       "      <td>53</td>\n",
       "    </tr>\n",
       "    <tr>\n",
       "      <th>Houseware</th>\n",
       "      <td>68</td>\n",
       "      <td>21</td>\n",
       "      <td>47</td>\n",
       "    </tr>\n",
       "  </tbody>\n",
       "</table>\n",
       "</div>"
      ],
      "text/plain": [
       "             total_count  return_count  new_cust\n",
       "Product                                         \n",
       "Footwear            8186          3147      5039\n",
       "Clothing            1504           528       976\n",
       "Perfumes             151            50       101\n",
       "Accessories           90            37        53\n",
       "Houseware             68            21        47"
      ]
     },
     "execution_count": 16,
     "metadata": {},
     "output_type": "execute_result"
    }
   ],
   "source": [
    "prod_cust_acq = transc_data[['Product',\n",
    "                             'Returning_Customer (1=Yes/0=No)']].groupby(['Product']).agg(['count','sum'])\n",
    "prod_cust_acq.columns = ['total_count', 'return_count']\n",
    "prod_cust_acq['new_cust'] = (prod_cust_acq['total_count'] - \\\n",
    "                                     prod_cust_acq['return_count'])\n",
    "prod_cust_acq.sort_values('new_cust',ascending=False)"
   ]
  },
  {
   "cell_type": "markdown",
   "metadata": {},
   "source": [
    "**Footwear, Clothing has high customer acquisition.**"
   ]
  },
  {
   "cell_type": "code",
   "execution_count": 17,
   "metadata": {},
   "outputs": [
    {
     "data": {
      "text/html": [
       "<div>\n",
       "<style scoped>\n",
       "    .dataframe tbody tr th:only-of-type {\n",
       "        vertical-align: middle;\n",
       "    }\n",
       "\n",
       "    .dataframe tbody tr th {\n",
       "        vertical-align: top;\n",
       "    }\n",
       "\n",
       "    .dataframe thead th {\n",
       "        text-align: right;\n",
       "    }\n",
       "</style>\n",
       "<table border=\"1\" class=\"dataframe\">\n",
       "  <thead>\n",
       "    <tr style=\"text-align: right;\">\n",
       "      <th></th>\n",
       "      <th>total_count</th>\n",
       "      <th>return_count</th>\n",
       "      <th>new_cust</th>\n",
       "    </tr>\n",
       "    <tr>\n",
       "      <th>Brand Code</th>\n",
       "      <th></th>\n",
       "      <th></th>\n",
       "      <th></th>\n",
       "    </tr>\n",
       "  </thead>\n",
       "  <tbody>\n",
       "    <tr>\n",
       "      <th>NCW</th>\n",
       "      <td>3136</td>\n",
       "      <td>1209</td>\n",
       "      <td>1927</td>\n",
       "    </tr>\n",
       "    <tr>\n",
       "      <th>ABC</th>\n",
       "      <td>1986</td>\n",
       "      <td>750</td>\n",
       "      <td>1236</td>\n",
       "    </tr>\n",
       "    <tr>\n",
       "      <th>ABB</th>\n",
       "      <td>482</td>\n",
       "      <td>164</td>\n",
       "      <td>318</td>\n",
       "    </tr>\n",
       "    <tr>\n",
       "      <th>KSS</th>\n",
       "      <td>381</td>\n",
       "      <td>129</td>\n",
       "      <td>252</td>\n",
       "    </tr>\n",
       "    <tr>\n",
       "      <th>KOO</th>\n",
       "      <td>428</td>\n",
       "      <td>181</td>\n",
       "      <td>247</td>\n",
       "    </tr>\n",
       "  </tbody>\n",
       "</table>\n",
       "</div>"
      ],
      "text/plain": [
       "            total_count  return_count  new_cust\n",
       "Brand Code                                     \n",
       "NCW                3136          1209      1927\n",
       "ABC                1986           750      1236\n",
       "ABB                 482           164       318\n",
       "KSS                 381           129       252\n",
       "KOO                 428           181       247"
      ]
     },
     "execution_count": 17,
     "metadata": {},
     "output_type": "execute_result"
    }
   ],
   "source": [
    "brand_cust_acq = transc_data[['Brand Code',\n",
    "                              'Returning_Customer (1=Yes/0=No)']].groupby(['Brand Code']).agg(['count',\n",
    "                                                                                               'sum'])\n",
    "brand_cust_acq.columns = ['total_count', 'return_count']\n",
    "brand_cust_acq['new_cust'] = (brand_cust_acq['total_count'] -\\\n",
    "                                      brand_cust_acq['return_count'])\n",
    "\n",
    "brand_cust_acq.sort_values('new_cust', ascending=False).head()"
   ]
  },
  {
   "cell_type": "markdown",
   "metadata": {},
   "source": [
    "**NCW, ABC, ABB are the brands with highest customer acquisition.**"
   ]
  },
  {
   "cell_type": "markdown",
   "metadata": {},
   "source": [
    "**(9)** Which store has highest growth rate? Which has least?\n"
   ]
  },
  {
   "cell_type": "markdown",
   "metadata": {},
   "source": [
    "**Definition of Growth**\n",
    "\n",
    "Growth is defined as increase in monthly sales.\n",
    "\n",
    "Sum of consecutive growth averaged over number of months is then compared only stores who have more data are considered. Growth for every store is plotted.\n",
    "\n",
    "Stores considered for growth calculations:\n",
    "\n",
    "    1) Store3\n",
    "    \n",
    "    2) Store4\n",
    "    \n",
    "    3) Store5\n",
    "    \n",
    "    4) Store7"
   ]
  },
  {
   "cell_type": "code",
   "execution_count": 18,
   "metadata": {},
   "outputs": [
    {
     "name": "stdout",
     "output_type": "stream",
     "text": [
      "Store3\n",
      "Averaged growth:\n",
      "0.53\n"
     ]
    },
    {
     "data": {
      "image/png": "[encoded data removed]",
      "text/plain": [
       "<Figure size 432x288 with 1 Axes>"
      ]
     },
     "metadata": {},
     "output_type": "display_data"
    },
    {
     "name": "stdout",
     "output_type": "stream",
     "text": [
      "Store4\n",
      "Averaged growth:\n",
      "0.31\n"
     ]
    },
    {
     "data": {
      "image/png": "[encoded data removed]",
      "text/plain": [
       "<Figure size 432x288 with 1 Axes>"
      ]
     },
     "metadata": {},
     "output_type": "display_data"
    },
    {
     "name": "stdout",
     "output_type": "stream",
     "text": [
      "Store5\n",
      "Averaged growth:\n",
      "0.21\n"
     ]
    },
    {
     "data": {
      "image/png": "[encoded data removed]",
      "text/plain": [
       "<Figure size 432x288 with 1 Axes>"
      ]
     },
     "metadata": {},
     "output_type": "display_data"
    },
    {
     "name": "stdout",
     "output_type": "stream",
     "text": [
      "Store7\n",
      "Averaged growth:\n",
      "1.14\n"
     ]
    },
    {
     "data": {
      "image/png": "[encoded data removed]",
      "text/plain": [
       "<Figure size 432x288 with 1 Axes>"
      ]
     },
     "metadata": {},
     "output_type": "display_data"
    }
   ],
   "source": [
    "def diff_week(d1, d2):\n",
    "    return (d1.year - d2.year) * 52 + d1.week - d2.week\n",
    "\n",
    "def diff_month(d1, d2):\n",
    "    return (d1.year - d2.year) * 12 + d1.month - d2.month\n",
    "\n",
    "store_list = ['Store3','Store4','Store5','Store7']\n",
    "\n",
    "for item in store_list:\n",
    "    tmp = transc_data.loc[transc_data['Store_new']==item].sort_values(['Order date'])\n",
    "    tmp = tmp.reset_index()\n",
    "    tmp['week'] = tmp['Order date'].map(lambda x: diff_month(x,tmp['Order date'].iloc[0]))\n",
    "    tmp = tmp[['week','Line_Total']].groupby('week').sum()\n",
    "    tmp = tmp.reset_index()\n",
    "    tmp.columns = ['week', 'week_sum']\n",
    "    print(item)   \n",
    "    tmp['growth'] = (tmp['week_sum'].shift(-1)-tmp['week_sum'])/tmp['week_sum']\n",
    "    print(\"Averaged growth:\")\n",
    "    print(round(tmp['growth'].sum()/tmp['growth'].shape[0],2))\n",
    "    \n",
    "    plt.plot(tmp['week'],tmp['growth'])  \n",
    "    plt.xlabel('Weeks')\n",
    "    plt.ylabel('Growth')\n",
    "    plt.show()"
   ]
  },
  {
   "cell_type": "markdown",
   "metadata": {},
   "source": [
    "**Store7 has the highest growth rate and Store5 has the least.**"
   ]
  },
  {
   "cell_type": "markdown",
   "metadata": {},
   "source": [
    "### (10) Forecast total sales for 2018 in total, by store and by product.\n"
   ]
  },
  {
   "cell_type": "markdown",
   "metadata": {},
   "source": [
    "Note:\n",
    "\n",
    "    1) Month wise predictions calculated\n",
    "    2) To avoid lot of variation, only two months into 2018 are predicted for each store.\n",
    "    3) Prophet model is used to get the forecast.\n",
    "    4) The \"prophet_model\" function also accounts for modelling with respect to store and product"
   ]
  },
  {
   "cell_type": "code",
   "execution_count": 19,
   "metadata": {},
   "outputs": [],
   "source": [
    "def prophet_model(var_transc_data, store_prod, prod_flag = False ):\n",
    "    if prod_flag:\n",
    "        store_order_data = var_transc_data[['Product','Order date','Order_ID', 'Line_Total']\n",
    "                                     ].loc[transc_data['Product']== store_prod].groupby([\n",
    "                                          'Order_ID','Order date',]).sum()\n",
    "    else:\n",
    "        store_order_data = var_transc_data[['Store_new','Order date',\n",
    "                                    'Order_ID', 'Line_Total']\n",
    "                                     ].loc[transc_data['Store_new']== store_prod].groupby([\n",
    "                                          'Order_ID','Order date','Store_new']).sum()\n",
    "    \n",
    "    \n",
    "    store_order_data = store_order_data.reset_index()\n",
    "    store_order_data['Order date']=store_order_data['Order date'].dt.date\n",
    "\n",
    "    ##finding sum of two order dates, in months\n",
    "    store_order_data['month'] = store_order_data['Order date'].map(lambda x: diff_month(x,store_order_data['Order date'].iloc[0]))\n",
    "\n",
    "    modelling_data = store_order_data.groupby('month').agg({'Order date': 'min','Line_Total':'sum'})\n",
    "\n",
    "    modelling_data = modelling_data.reset_index()\n",
    "    modelling_data = modelling_data[['Order date', 'Line_Total']]\n",
    "    modelling_data.columns = ['ds','y']\n",
    "\n",
    "    ##fitting the prophet model\n",
    "    model = Prophet() \n",
    "    model.fit(modelling_data)\n",
    "    future_data=model.make_future_dataframe(periods=2, freq = 'm')\n",
    "\n",
    "    forecast_data = model.predict(future_data)\n",
    "    return forecast_data, model"
   ]
  },
  {
   "cell_type": "code",
   "execution_count": 20,
   "metadata": {},
   "outputs": [],
   "source": [
    "##Store 3,4,5,7 considered as mentioned before\n",
    "forecast_store3, model_store3 = prophet_model(transc_data, 'Store3')\n",
    "forecast_store4, model_store4 = prophet_model(transc_data, 'Store4')\n",
    "forecast_store5, model_store5 = prophet_model(transc_data, 'Store5')\n",
    "forecast_store7, model_store7 = prophet_model(transc_data, 'Store7')"
   ]
  },
  {
   "cell_type": "code",
   "execution_count": 21,
   "metadata": {},
   "outputs": [],
   "source": [
    "#there are 5 different products\n",
    "prod_list = list(transc_data['Product'].unique())\n",
    "forecast_footwear, model_footwear = prophet_model(transc_data, prod_list[0], True)\n",
    "forecast_clothing, model_clothing = prophet_model(transc_data, prod_list[1], True)\n",
    "forecast_accessories, model_accessories = prophet_model(transc_data, prod_list[2], True)\n",
    "forecast_houseware, model_houseware = prophet_model(transc_data, prod_list[3], True)\n",
    "forecast_perfume, model_perfume = prophet_model(transc_data, prod_list[4], True)"
   ]
  },
  {
   "cell_type": "markdown",
   "metadata": {},
   "source": [
    "**The following plot is of only one model, others similarly could be plotted.**"
   ]
  },
  {
   "cell_type": "code",
   "execution_count": 22,
   "metadata": {},
   "outputs": [
    {
     "data": {
      "image/png": "[encoded data removed]",
      "text/plain": [
       "<Figure size 720x432 with 1 Axes>"
      ]
     },
     "metadata": {},
     "output_type": "display_data"
    }
   ],
   "source": [
    "model_store7.plot(forecast_store7[['ds', 'yhat', 'yhat_lower', 'yhat_upper']])\n",
    "plt.show()"
   ]
  },
  {
   "cell_type": "code",
   "execution_count": 23,
   "metadata": {},
   "outputs": [
    {
     "name": "stdout",
     "output_type": "stream",
     "text": [
      "Prediction for Month of January 2018 (Using Store level data):\n"
     ]
    },
    {
     "data": {
      "text/plain": [
       "146656.54"
      ]
     },
     "execution_count": 23,
     "metadata": {},
     "output_type": "execute_result"
    }
   ],
   "source": [
    "print(\"Prediction for Month of January 2018 (Using Store level data):\")\n",
    "round(float(forecast_store3[['yhat']].loc[forecast_store3.shape[0]-2])+\\\n",
    "float(forecast_store4[['yhat']].loc[forecast_store4.shape[0]-2])+\\\n",
    "float(forecast_store5[['yhat']].loc[forecast_store5.shape[0]-2])+\\\n",
    "float(forecast_store7[['yhat']].loc[forecast_store7.shape[0]-2]),2)\n"
   ]
  },
  {
   "cell_type": "code",
   "execution_count": 24,
   "metadata": {},
   "outputs": [
    {
     "name": "stdout",
     "output_type": "stream",
     "text": [
      "Prediction for Month of February 2018 (Using Store level data):\n"
     ]
    },
    {
     "data": {
      "text/plain": [
       "155481.63"
      ]
     },
     "execution_count": 24,
     "metadata": {},
     "output_type": "execute_result"
    }
   ],
   "source": [
    "print(\"Prediction for Month of February 2018 (Using Store level data):\")\n",
    "round(float(forecast_store3[['yhat']].loc[forecast_store3.shape[0]-1])+\\\n",
    "float(forecast_store4[['yhat']].loc[forecast_store4.shape[0]-1])+\\\n",
    "float(forecast_store5[['yhat']].loc[forecast_store5.shape[0]-1])+\\\n",
    "float(forecast_store7[['yhat']].loc[forecast_store7.shape[0]-1]),2)"
   ]
  },
  {
   "cell_type": "code",
   "execution_count": 25,
   "metadata": {},
   "outputs": [
    {
     "name": "stdout",
     "output_type": "stream",
     "text": [
      "Prediction for January 2018 (Using product level data):\n"
     ]
    },
    {
     "data": {
      "text/plain": [
       "136330.08"
      ]
     },
     "execution_count": 25,
     "metadata": {},
     "output_type": "execute_result"
    }
   ],
   "source": [
    "print(\"Prediction for January 2018 (Using product level data):\")\n",
    "round(float(forecast_footwear[['yhat']].loc[forecast_footwear.shape[0]-2])+\\\n",
    "float(forecast_clothing[['yhat']].loc[forecast_clothing.shape[0]-2])+\\\n",
    "float(forecast_accessories[['yhat']].loc[forecast_accessories.shape[0]-2])+\\\n",
    "float(forecast_houseware[['yhat']].loc[forecast_houseware.shape[0]-2])+\\\n",
    "float(forecast_perfume[['yhat']].loc[forecast_perfume.shape[0]-2]),2)"
   ]
  },
  {
   "cell_type": "code",
   "execution_count": 26,
   "metadata": {},
   "outputs": [
    {
     "name": "stdout",
     "output_type": "stream",
     "text": [
      "Prediction for February 2018 (Using product level data):\n"
     ]
    },
    {
     "data": {
      "text/plain": [
       "141893.29"
      ]
     },
     "execution_count": 26,
     "metadata": {},
     "output_type": "execute_result"
    }
   ],
   "source": [
    "print(\"Prediction for February 2018 (Using product level data):\")\n",
    "round(float(forecast_footwear[['yhat']].loc[forecast_footwear.shape[0]-1])+\\\n",
    "float(forecast_clothing[['yhat']].loc[forecast_clothing.shape[0]-1])+\\\n",
    "float(forecast_accessories[['yhat']].loc[forecast_accessories.shape[0]-1])+\\\n",
    "float(forecast_houseware[['yhat']].loc[forecast_houseware.shape[0]-1])+\\\n",
    "float(forecast_perfume[['yhat']].loc[forecast_perfume.shape[0]-1]),2)"
   ]
  },
  {
   "cell_type": "markdown",
   "metadata": {},
   "source": [
    "### (11) If there are multiple item orders, which 2 products are most likely to go together? Do customers buy different products all together, or the same product with different Brand, or the same product with the same brand but different sizes, or any other combination?\n"
   ]
  },
  {
   "cell_type": "code",
   "execution_count": 27,
   "metadata": {},
   "outputs": [],
   "source": [
    "##dataframe subset on items over 1 in order\n",
    "order_multiple_items = order_count.loc[order_count['count_items']>1]\n",
    "\n",
    "##creating a cart list for all the orders with multiple items\n",
    "cart_list = []\n",
    "for item in order_multiple_items.index:\n",
    "    tmp = transc_data.loc[transc_data['Order_ID']==item]\n",
    "    cart = []\n",
    "    for row in tmp.values:\n",
    "        cart.append(row[8]+'_'+row[10])\n",
    "    cart_list.append(cart)"
   ]
  },
  {
   "cell_type": "code",
   "execution_count": 28,
   "metadata": {},
   "outputs": [
    {
     "data": {
      "text/html": [
       "<div>\n",
       "<style scoped>\n",
       "    .dataframe tbody tr th:only-of-type {\n",
       "        vertical-align: middle;\n",
       "    }\n",
       "\n",
       "    .dataframe tbody tr th {\n",
       "        vertical-align: top;\n",
       "    }\n",
       "\n",
       "    .dataframe thead th {\n",
       "        text-align: right;\n",
       "    }\n",
       "</style>\n",
       "<table border=\"1\" class=\"dataframe\">\n",
       "  <thead>\n",
       "    <tr style=\"text-align: right;\">\n",
       "      <th></th>\n",
       "      <th>Accessories_FB</th>\n",
       "      <th>Accessories_LMW</th>\n",
       "      <th>Accessories_NC0</th>\n",
       "      <th>Clothing_ABB</th>\n",
       "      <th>Clothing_KLL</th>\n",
       "      <th>Clothing_KMM</th>\n",
       "      <th>Clothing_KNN</th>\n",
       "      <th>Clothing_KOC</th>\n",
       "      <th>Clothing_KOO</th>\n",
       "      <th>Clothing_KPP</th>\n",
       "      <th>...</th>\n",
       "      <th>Footwear_WLC</th>\n",
       "      <th>Footwear_WLG</th>\n",
       "      <th>Footwear_WLS</th>\n",
       "      <th>Houseware_CAR</th>\n",
       "      <th>Perfumes_BOO</th>\n",
       "      <th>Perfumes_DGC</th>\n",
       "      <th>Perfumes_KJO</th>\n",
       "      <th>Perfumes_KRR</th>\n",
       "      <th>Perfumes_LBW</th>\n",
       "      <th>Perfumes_NCW</th>\n",
       "    </tr>\n",
       "  </thead>\n",
       "  <tbody>\n",
       "    <tr>\n",
       "      <th>0</th>\n",
       "      <td>False</td>\n",
       "      <td>False</td>\n",
       "      <td>False</td>\n",
       "      <td>False</td>\n",
       "      <td>False</td>\n",
       "      <td>False</td>\n",
       "      <td>False</td>\n",
       "      <td>False</td>\n",
       "      <td>False</td>\n",
       "      <td>False</td>\n",
       "      <td>...</td>\n",
       "      <td>False</td>\n",
       "      <td>False</td>\n",
       "      <td>False</td>\n",
       "      <td>False</td>\n",
       "      <td>False</td>\n",
       "      <td>False</td>\n",
       "      <td>False</td>\n",
       "      <td>False</td>\n",
       "      <td>False</td>\n",
       "      <td>False</td>\n",
       "    </tr>\n",
       "    <tr>\n",
       "      <th>1</th>\n",
       "      <td>False</td>\n",
       "      <td>False</td>\n",
       "      <td>False</td>\n",
       "      <td>False</td>\n",
       "      <td>False</td>\n",
       "      <td>False</td>\n",
       "      <td>False</td>\n",
       "      <td>True</td>\n",
       "      <td>False</td>\n",
       "      <td>False</td>\n",
       "      <td>...</td>\n",
       "      <td>False</td>\n",
       "      <td>False</td>\n",
       "      <td>False</td>\n",
       "      <td>False</td>\n",
       "      <td>False</td>\n",
       "      <td>False</td>\n",
       "      <td>False</td>\n",
       "      <td>False</td>\n",
       "      <td>False</td>\n",
       "      <td>False</td>\n",
       "    </tr>\n",
       "    <tr>\n",
       "      <th>2</th>\n",
       "      <td>False</td>\n",
       "      <td>False</td>\n",
       "      <td>False</td>\n",
       "      <td>False</td>\n",
       "      <td>False</td>\n",
       "      <td>False</td>\n",
       "      <td>False</td>\n",
       "      <td>False</td>\n",
       "      <td>False</td>\n",
       "      <td>False</td>\n",
       "      <td>...</td>\n",
       "      <td>False</td>\n",
       "      <td>False</td>\n",
       "      <td>False</td>\n",
       "      <td>False</td>\n",
       "      <td>False</td>\n",
       "      <td>False</td>\n",
       "      <td>False</td>\n",
       "      <td>False</td>\n",
       "      <td>False</td>\n",
       "      <td>False</td>\n",
       "    </tr>\n",
       "    <tr>\n",
       "      <th>3</th>\n",
       "      <td>False</td>\n",
       "      <td>False</td>\n",
       "      <td>False</td>\n",
       "      <td>False</td>\n",
       "      <td>False</td>\n",
       "      <td>False</td>\n",
       "      <td>False</td>\n",
       "      <td>False</td>\n",
       "      <td>False</td>\n",
       "      <td>False</td>\n",
       "      <td>...</td>\n",
       "      <td>False</td>\n",
       "      <td>False</td>\n",
       "      <td>False</td>\n",
       "      <td>False</td>\n",
       "      <td>False</td>\n",
       "      <td>False</td>\n",
       "      <td>False</td>\n",
       "      <td>False</td>\n",
       "      <td>False</td>\n",
       "      <td>False</td>\n",
       "    </tr>\n",
       "    <tr>\n",
       "      <th>4</th>\n",
       "      <td>False</td>\n",
       "      <td>False</td>\n",
       "      <td>False</td>\n",
       "      <td>False</td>\n",
       "      <td>False</td>\n",
       "      <td>False</td>\n",
       "      <td>False</td>\n",
       "      <td>False</td>\n",
       "      <td>False</td>\n",
       "      <td>False</td>\n",
       "      <td>...</td>\n",
       "      <td>False</td>\n",
       "      <td>False</td>\n",
       "      <td>False</td>\n",
       "      <td>False</td>\n",
       "      <td>False</td>\n",
       "      <td>False</td>\n",
       "      <td>False</td>\n",
       "      <td>False</td>\n",
       "      <td>False</td>\n",
       "      <td>False</td>\n",
       "    </tr>\n",
       "  </tbody>\n",
       "</table>\n",
       "<p>5 rows × 57 columns</p>\n",
       "</div>"
      ],
      "text/plain": [
       "   Accessories_FB  Accessories_LMW  Accessories_NC0  Clothing_ABB  \\\n",
       "0           False            False            False         False   \n",
       "1           False            False            False         False   \n",
       "2           False            False            False         False   \n",
       "3           False            False            False         False   \n",
       "4           False            False            False         False   \n",
       "\n",
       "   Clothing_KLL  Clothing_KMM  Clothing_KNN  Clothing_KOC  Clothing_KOO  \\\n",
       "0         False         False         False         False         False   \n",
       "1         False         False         False          True         False   \n",
       "2         False         False         False         False         False   \n",
       "3         False         False         False         False         False   \n",
       "4         False         False         False         False         False   \n",
       "\n",
       "   Clothing_KPP      ...       Footwear_WLC  Footwear_WLG  Footwear_WLS  \\\n",
       "0         False      ...              False         False         False   \n",
       "1         False      ...              False         False         False   \n",
       "2         False      ...              False         False         False   \n",
       "3         False      ...              False         False         False   \n",
       "4         False      ...              False         False         False   \n",
       "\n",
       "   Houseware_CAR  Perfumes_BOO  Perfumes_DGC  Perfumes_KJO  Perfumes_KRR  \\\n",
       "0          False         False         False         False         False   \n",
       "1          False         False         False         False         False   \n",
       "2          False         False         False         False         False   \n",
       "3          False         False         False         False         False   \n",
       "4          False         False         False         False         False   \n",
       "\n",
       "   Perfumes_LBW  Perfumes_NCW  \n",
       "0         False         False  \n",
       "1         False         False  \n",
       "2         False         False  \n",
       "3         False         False  \n",
       "4         False         False  \n",
       "\n",
       "[5 rows x 57 columns]"
      ]
     },
     "execution_count": 28,
     "metadata": {},
     "output_type": "execute_result"
    }
   ],
   "source": [
    "##creating a dataframe which stores the association among the items bought together\n",
    "pattern = TransactionEncoder()\n",
    "pattern_arr = pattern.fit(cart_list).transform(cart_list)\n",
    "pattern_df = pd.DataFrame(pattern_arr, columns=pattern.columns_)\n",
    "pattern_df.head()    "
   ]
  },
  {
   "cell_type": "code",
   "execution_count": 29,
   "metadata": {},
   "outputs": [
    {
     "data": {
      "text/html": [
       "<div>\n",
       "<style scoped>\n",
       "    .dataframe tbody tr th:only-of-type {\n",
       "        vertical-align: middle;\n",
       "    }\n",
       "\n",
       "    .dataframe tbody tr th {\n",
       "        vertical-align: top;\n",
       "    }\n",
       "\n",
       "    .dataframe thead th {\n",
       "        text-align: right;\n",
       "    }\n",
       "</style>\n",
       "<table border=\"1\" class=\"dataframe\">\n",
       "  <thead>\n",
       "    <tr style=\"text-align: right;\">\n",
       "      <th></th>\n",
       "      <th>support</th>\n",
       "      <th>itemsets</th>\n",
       "      <th>length</th>\n",
       "    </tr>\n",
       "  </thead>\n",
       "  <tbody>\n",
       "    <tr>\n",
       "      <th>6</th>\n",
       "      <td>0.484906</td>\n",
       "      <td>(Footwear_NCW)</td>\n",
       "      <td>1</td>\n",
       "    </tr>\n",
       "    <tr>\n",
       "      <th>2</th>\n",
       "      <td>0.361321</td>\n",
       "      <td>(Footwear_ABC)</td>\n",
       "      <td>1</td>\n",
       "    </tr>\n",
       "    <tr>\n",
       "      <th>0</th>\n",
       "      <td>0.137736</td>\n",
       "      <td>(Clothing_ABB)</td>\n",
       "      <td>1</td>\n",
       "    </tr>\n",
       "    <tr>\n",
       "      <th>8</th>\n",
       "      <td>0.131132</td>\n",
       "      <td>(Footwear_NCW, Footwear_ABC)</td>\n",
       "      <td>2</td>\n",
       "    </tr>\n",
       "    <tr>\n",
       "      <th>4</th>\n",
       "      <td>0.120755</td>\n",
       "      <td>(Footwear_KBB)</td>\n",
       "      <td>1</td>\n",
       "    </tr>\n",
       "  </tbody>\n",
       "</table>\n",
       "</div>"
      ],
      "text/plain": [
       "    support                      itemsets  length\n",
       "6  0.484906                (Footwear_NCW)       1\n",
       "2  0.361321                (Footwear_ABC)       1\n",
       "0  0.137736                (Clothing_ABB)       1\n",
       "8  0.131132  (Footwear_NCW, Footwear_ABC)       2\n",
       "4  0.120755                (Footwear_KBB)       1"
      ]
     },
     "execution_count": 29,
     "metadata": {},
     "output_type": "execute_result"
    }
   ],
   "source": [
    "##Using Apriori algorithm to find the most common supporting items in a set and ordering them \n",
    "##with respect to support vals\n",
    "frequent_itemsets = apriori(pattern_df, min_support=0.05, use_colnames=True)\n",
    "frequent_itemsets['length'] = frequent_itemsets['itemsets'].apply(lambda x: len(x))\n",
    "frequent_itemsets = frequent_itemsets.sort_values('support', ascending=False)\n",
    "frequent_itemsets.head()"
   ]
  },
  {
   "cell_type": "code",
   "execution_count": 30,
   "metadata": {},
   "outputs": [
    {
     "name": "stdout",
     "output_type": "stream",
     "text": [
      "Number of such pairs:\n",
      "2\n",
      "Items bought together, with descending amount of support:\n"
     ]
    },
    {
     "data": {
      "text/html": [
       "<div>\n",
       "<style scoped>\n",
       "    .dataframe tbody tr th:only-of-type {\n",
       "        vertical-align: middle;\n",
       "    }\n",
       "\n",
       "    .dataframe tbody tr th {\n",
       "        vertical-align: top;\n",
       "    }\n",
       "\n",
       "    .dataframe thead th {\n",
       "        text-align: right;\n",
       "    }\n",
       "</style>\n",
       "<table border=\"1\" class=\"dataframe\">\n",
       "  <thead>\n",
       "    <tr style=\"text-align: right;\">\n",
       "      <th></th>\n",
       "      <th>support</th>\n",
       "      <th>itemsets</th>\n",
       "      <th>length</th>\n",
       "    </tr>\n",
       "  </thead>\n",
       "  <tbody>\n",
       "    <tr>\n",
       "      <th>8</th>\n",
       "      <td>0.131132</td>\n",
       "      <td>(Footwear_NCW, Footwear_ABC)</td>\n",
       "      <td>2</td>\n",
       "    </tr>\n",
       "    <tr>\n",
       "      <th>7</th>\n",
       "      <td>0.050943</td>\n",
       "      <td>(Footwear_NCW, Clothing_ABB)</td>\n",
       "      <td>2</td>\n",
       "    </tr>\n",
       "  </tbody>\n",
       "</table>\n",
       "</div>"
      ],
      "text/plain": [
       "    support                      itemsets  length\n",
       "8  0.131132  (Footwear_NCW, Footwear_ABC)       2\n",
       "7  0.050943  (Footwear_NCW, Clothing_ABB)       2"
      ]
     },
     "execution_count": 30,
     "metadata": {},
     "output_type": "execute_result"
    }
   ],
   "source": [
    "##subset of frequently bought item when order contains two elements.\n",
    "frequent_two_item = frequent_itemsets[ (frequent_itemsets['length'] == 2) ]\n",
    "print(\"Number of such pairs:\")\n",
    "print(frequent_two_item.shape[0])\n",
    "print(\"Items bought together, with descending amount of support:\")\n",
    "frequent_two_item.head()\n"
   ]
  },
  {
   "cell_type": "markdown",
   "metadata": {},
   "source": [
    "**People are seen to buy same product with different brand as well as different products. Though same product, different brands is more common.**"
   ]
  },
  {
   "cell_type": "markdown",
   "metadata": {},
   "source": [
    "### (12) What % of total site traffic is free? Is this proportion of free traffic increasing, decreasing or staying same over the time?"
   ]
  },
  {
   "cell_type": "code",
   "execution_count": 31,
   "metadata": {},
   "outputs": [
    {
     "name": "stdout",
     "output_type": "stream",
     "text": [
      "Free site traffic %:\n",
      "56.2\n"
     ]
    }
   ],
   "source": [
    "##Only 7 of 11 marketing channels are considered.\n",
    "sum_df = traffic_data[['Default Channel Grouping','Sessions']].groupby(['Default Channel Grouping']).sum()\n",
    "\n",
    "\n",
    "free_traffic = float(sum_df.loc['Direct']+sum_df.loc['(Other)']+\\\n",
    "                     sum_df.loc['Organic Search']+sum_df.loc['Referral']+\\\n",
    "                    sum_df.loc['Social']+sum_df.loc['Email']+sum_df.loc['Other Advertising'])\n",
    "\n",
    "total_sum = float(sum_df.Sessions.sum())\n",
    "print('Free site traffic %:')\n",
    "print(round(free_traffic/total_sum*100,2))\n"
   ]
  },
  {
   "cell_type": "code",
   "execution_count": 32,
   "metadata": {},
   "outputs": [
    {
     "data": {
      "image/png": "[encoded data removed]",
      "text/plain": [
       "<Figure size 432x288 with 1 Axes>"
      ]
     },
     "metadata": {},
     "output_type": "display_data"
    }
   ],
   "source": [
    "##Sum of count of Sessions for each month\n",
    "traffic_subset = traffic_data.loc[traffic_data['Default Channel Grouping'].isin(['Organic Search'\n",
    "                'Direct','(Other)','Email','Other Advertising','Social','Referral']) ].sort_values(['Date'])\n",
    "\n",
    "\n",
    "traffic_subset['month'] = traffic_subset['Date'].map(lambda x: diff_month(x,traffic_subset['Date'].iloc[0]))\n",
    "\n",
    "plt.plot(traffic_subset[['month','Sessions']].groupby('month').sum())\n",
    "plt.xlabel('Month')\n",
    "plt.ylabel('Sum of sessions')\n",
    "plt.show()"
   ]
  },
  {
   "cell_type": "markdown",
   "metadata": {},
   "source": [
    "**The number of sessions are clearly increasing over the months. Note: The last month is not complete, as it has only about less than one week of data.**"
   ]
  },
  {
   "cell_type": "markdown",
   "metadata": {},
   "source": [
    "### (13) What is the site conversion rate?"
   ]
  },
  {
   "cell_type": "markdown",
   "metadata": {},
   "source": [
    "**Note:**\n",
    "    This question is a little confusing as we don't have any session mapped to the order.\n",
    "    It is difficult to find the site conversion rate without the above information.\n",
    "    The following code sums the number of sessions, irrespective of channel on a daily basis and maps it to number of orders completed on that day."
   ]
  },
  {
   "cell_type": "code",
   "execution_count": 33,
   "metadata": {},
   "outputs": [
    {
     "data": {
      "text/html": [
       "<div>\n",
       "<style scoped>\n",
       "    .dataframe tbody tr th:only-of-type {\n",
       "        vertical-align: middle;\n",
       "    }\n",
       "\n",
       "    .dataframe tbody tr th {\n",
       "        vertical-align: top;\n",
       "    }\n",
       "\n",
       "    .dataframe thead th {\n",
       "        text-align: right;\n",
       "    }\n",
       "</style>\n",
       "<table border=\"1\" class=\"dataframe\">\n",
       "  <thead>\n",
       "    <tr style=\"text-align: right;\">\n",
       "      <th></th>\n",
       "      <th>Date</th>\n",
       "      <th>Sessions</th>\n",
       "    </tr>\n",
       "  </thead>\n",
       "  <tbody>\n",
       "    <tr>\n",
       "      <th>0</th>\n",
       "      <td>2016-10-01</td>\n",
       "      <td>54959</td>\n",
       "    </tr>\n",
       "    <tr>\n",
       "      <th>1</th>\n",
       "      <td>2016-10-02</td>\n",
       "      <td>55557</td>\n",
       "    </tr>\n",
       "    <tr>\n",
       "      <th>2</th>\n",
       "      <td>2016-10-03</td>\n",
       "      <td>58012</td>\n",
       "    </tr>\n",
       "    <tr>\n",
       "      <th>3</th>\n",
       "      <td>2016-10-04</td>\n",
       "      <td>59580</td>\n",
       "    </tr>\n",
       "    <tr>\n",
       "      <th>4</th>\n",
       "      <td>2016-10-05</td>\n",
       "      <td>61609</td>\n",
       "    </tr>\n",
       "  </tbody>\n",
       "</table>\n",
       "</div>"
      ],
      "text/plain": [
       "         Date  Sessions\n",
       "0  2016-10-01     54959\n",
       "1  2016-10-02     55557\n",
       "2  2016-10-03     58012\n",
       "3  2016-10-04     59580\n",
       "4  2016-10-05     61609"
      ]
     },
     "execution_count": 33,
     "metadata": {},
     "output_type": "execute_result"
    }
   ],
   "source": [
    "traffic_ordered = traffic_data.sort_values(['Date'])\n",
    "traffic_date = traffic_ordered[['Date','Sessions']].groupby('Date').sum()\n",
    "traffic_date = traffic_date.reset_index()\n",
    "traffic_date.head()"
   ]
  },
  {
   "cell_type": "code",
   "execution_count": 34,
   "metadata": {},
   "outputs": [
    {
     "data": {
      "text/html": [
       "<div>\n",
       "<style scoped>\n",
       "    .dataframe tbody tr th:only-of-type {\n",
       "        vertical-align: middle;\n",
       "    }\n",
       "\n",
       "    .dataframe tbody tr th {\n",
       "        vertical-align: top;\n",
       "    }\n",
       "\n",
       "    .dataframe thead th {\n",
       "        text-align: right;\n",
       "    }\n",
       "</style>\n",
       "<table border=\"1\" class=\"dataframe\">\n",
       "  <thead>\n",
       "    <tr style=\"text-align: right;\">\n",
       "      <th></th>\n",
       "      <th>Date</th>\n",
       "      <th>order_count</th>\n",
       "    </tr>\n",
       "  </thead>\n",
       "  <tbody>\n",
       "    <tr>\n",
       "      <th>0</th>\n",
       "      <td>2016-02-26</td>\n",
       "      <td>2</td>\n",
       "    </tr>\n",
       "    <tr>\n",
       "      <th>1</th>\n",
       "      <td>2016-02-29</td>\n",
       "      <td>1</td>\n",
       "    </tr>\n",
       "    <tr>\n",
       "      <th>2</th>\n",
       "      <td>2016-03-01</td>\n",
       "      <td>8</td>\n",
       "    </tr>\n",
       "    <tr>\n",
       "      <th>3</th>\n",
       "      <td>2016-03-02</td>\n",
       "      <td>4</td>\n",
       "    </tr>\n",
       "    <tr>\n",
       "      <th>4</th>\n",
       "      <td>2016-03-03</td>\n",
       "      <td>7</td>\n",
       "    </tr>\n",
       "  </tbody>\n",
       "</table>\n",
       "</div>"
      ],
      "text/plain": [
       "         Date  order_count\n",
       "0  2016-02-26            2\n",
       "1  2016-02-29            1\n",
       "2  2016-03-01            8\n",
       "3  2016-03-02            4\n",
       "4  2016-03-03            7"
      ]
     },
     "execution_count": 34,
     "metadata": {},
     "output_type": "execute_result"
    }
   ],
   "source": [
    "transc_subset = transc_data.loc[transc_data['Store_new']=='Store7'].sort_values('Order date')\n",
    "transc_subset['Order date'] = transc_subset['Order date'].dt.date\n",
    "transc_date_count = transc_subset[['Order date', 'Order_ID']].groupby('Order date').Order_ID.nunique()\n",
    "transc_date_count = transc_date_count.reset_index()\n",
    "transc_date_count.columns = ['Date','order_count']\n",
    "transc_date_count.head()"
   ]
  },
  {
   "cell_type": "code",
   "execution_count": 35,
   "metadata": {},
   "outputs": [
    {
     "data": {
      "text/html": [
       "<div>\n",
       "<style scoped>\n",
       "    .dataframe tbody tr th:only-of-type {\n",
       "        vertical-align: middle;\n",
       "    }\n",
       "\n",
       "    .dataframe tbody tr th {\n",
       "        vertical-align: top;\n",
       "    }\n",
       "\n",
       "    .dataframe thead th {\n",
       "        text-align: right;\n",
       "    }\n",
       "</style>\n",
       "<table border=\"1\" class=\"dataframe\">\n",
       "  <thead>\n",
       "    <tr style=\"text-align: right;\">\n",
       "      <th></th>\n",
       "      <th>Date</th>\n",
       "      <th>Sessions</th>\n",
       "      <th>order_count</th>\n",
       "    </tr>\n",
       "  </thead>\n",
       "  <tbody>\n",
       "    <tr>\n",
       "      <th>0</th>\n",
       "      <td>2016-10-01</td>\n",
       "      <td>54959</td>\n",
       "      <td>1</td>\n",
       "    </tr>\n",
       "    <tr>\n",
       "      <th>1</th>\n",
       "      <td>2016-10-02</td>\n",
       "      <td>55557</td>\n",
       "      <td>3</td>\n",
       "    </tr>\n",
       "    <tr>\n",
       "      <th>2</th>\n",
       "      <td>2016-10-03</td>\n",
       "      <td>58012</td>\n",
       "      <td>3</td>\n",
       "    </tr>\n",
       "    <tr>\n",
       "      <th>3</th>\n",
       "      <td>2016-10-04</td>\n",
       "      <td>59580</td>\n",
       "      <td>2</td>\n",
       "    </tr>\n",
       "    <tr>\n",
       "      <th>4</th>\n",
       "      <td>2016-10-05</td>\n",
       "      <td>61609</td>\n",
       "      <td>4</td>\n",
       "    </tr>\n",
       "  </tbody>\n",
       "</table>\n",
       "</div>"
      ],
      "text/plain": [
       "         Date  Sessions  order_count\n",
       "0  2016-10-01     54959            1\n",
       "1  2016-10-02     55557            3\n",
       "2  2016-10-03     58012            3\n",
       "3  2016-10-04     59580            2\n",
       "4  2016-10-05     61609            4"
      ]
     },
     "execution_count": 35,
     "metadata": {},
     "output_type": "execute_result"
    }
   ],
   "source": [
    "order_session_map = pd.merge(traffic_date,transc_date_count, on = 'Date')\n",
    "order_session_map.head()"
   ]
  },
  {
   "cell_type": "markdown",
   "metadata": {},
   "source": [
    "If we had the necessary information, the Sessions cols above would be lot small (and comparable to order_count). Which would have been benificial calculating the site conversion rate."
   ]
  },
  {
   "cell_type": "markdown",
   "metadata": {},
   "source": [
    "### (14) Quantify the role of paid marketing in gross sales.\n"
   ]
  },
  {
   "cell_type": "markdown",
   "metadata": {},
   "source": [
    "**Assumption:** The paid marketing will impact the gross sales in the same ratio of it to total number of sessions"
   ]
  },
  {
   "cell_type": "code",
   "execution_count": 37,
   "metadata": {},
   "outputs": [
    {
     "name": "stdout",
     "output_type": "stream",
     "text": [
      "Paid marketing percent of total sessions:\n",
      "43.8 %\n",
      "Paid marketing contribution to gross sales:\n",
      "508384.16\n"
     ]
    }
   ],
   "source": [
    "paid_traffic = float(sum_df.loc['Paid Social']+sum_df.loc['Paid Search']+\\\n",
    "                     sum_df.loc['Display']+sum_df.loc['Affiliates'])\n",
    "paid_percent = paid_traffic/sum_df['Sessions'].sum()\n",
    "\n",
    "print(\"Paid marketing percent of total sessions:\")\n",
    "print(round(paid_percent*100,2),'%')\n",
    "print(\"Paid marketing contribution to gross sales:\")\n",
    "print(round(transc_data['Line_Total'].sum()*paid_percent,2))"
   ]
  },
  {
   "cell_type": "markdown",
   "metadata": {},
   "source": [
    "The above numbers has a major assumption behind it. Though with more data, this could be improved."
   ]
  },
  {
   "cell_type": "markdown",
   "metadata": {},
   "source": [
    "### (15) Quantify the role of paid marketing in new customer acquisition.\n"
   ]
  },
  {
   "cell_type": "markdown",
   "metadata": {},
   "source": [
    "** Assumption:** The paid marketing will impact the new customer acquisition in the same ratio of it to total number of sessions"
   ]
  },
  {
   "cell_type": "code",
   "execution_count": 38,
   "metadata": {},
   "outputs": [
    {
     "name": "stdout",
     "output_type": "stream",
     "text": [
      "Contribution to revenues with new customer acquisition by paid marketing:\n",
      "306453.1\n"
     ]
    }
   ],
   "source": [
    "contri_customer_split = transc_data[['Returning_Customer (1=Yes/0=No)',\n",
    "             'Line_Total']].groupby('Returning_Customer (1=Yes/0=No)').sum()\n",
    "\n",
    "print(\"Contribution to revenues with new customer acquisition by paid marketing:\")\n",
    "print(round(float(contri_customer_split.loc[0]*paid_percent),2))"
   ]
  },
  {
   "cell_type": "markdown",
   "metadata": {},
   "source": [
    "# (16) BONUS QUESTION: \n",
    "### Based on the data and analysis you performed, what are top 3 opportunities to increase growth and new customer acquisition?"
   ]
  },
  {
   "cell_type": "code",
   "execution_count": 39,
   "metadata": {},
   "outputs": [
    {
     "data": {
      "text/html": [
       "<div>\n",
       "<style scoped>\n",
       "    .dataframe tbody tr th:only-of-type {\n",
       "        vertical-align: middle;\n",
       "    }\n",
       "\n",
       "    .dataframe tbody tr th {\n",
       "        vertical-align: top;\n",
       "    }\n",
       "\n",
       "    .dataframe thead th {\n",
       "        text-align: right;\n",
       "    }\n",
       "</style>\n",
       "<table border=\"1\" class=\"dataframe\">\n",
       "  <thead>\n",
       "    <tr style=\"text-align: right;\">\n",
       "      <th></th>\n",
       "      <th>Sessions</th>\n",
       "    </tr>\n",
       "    <tr>\n",
       "      <th>Default Channel Grouping</th>\n",
       "      <th></th>\n",
       "    </tr>\n",
       "  </thead>\n",
       "  <tbody>\n",
       "    <tr>\n",
       "      <th>Paid Social</th>\n",
       "      <td>1231809</td>\n",
       "    </tr>\n",
       "    <tr>\n",
       "      <th>Social</th>\n",
       "      <td>1306967</td>\n",
       "    </tr>\n",
       "    <tr>\n",
       "      <th>Other Advertising</th>\n",
       "      <td>1612264</td>\n",
       "    </tr>\n",
       "  </tbody>\n",
       "</table>\n",
       "</div>"
      ],
      "text/plain": [
       "                          Sessions\n",
       "Default Channel Grouping          \n",
       "Paid Social                1231809\n",
       "Social                     1306967\n",
       "Other Advertising          1612264"
      ]
     },
     "execution_count": 39,
     "metadata": {},
     "output_type": "execute_result"
    }
   ],
   "source": [
    "traffic_data[['Default Channel Grouping',\n",
    "              'Sessions']].groupby(['Default Channel Grouping']).sum().sort_values('Sessions').head(3)"
   ]
  },
  {
   "cell_type": "markdown",
   "metadata": {},
   "source": [
    "The top three channels through which we get the most of the sessions are :\n",
    "\n",
    "    1) Paid Social\n",
    "    2) Social\n",
    "    3) Other Advertising"
   ]
  },
  {
   "cell_type": "code",
   "execution_count": 40,
   "metadata": {},
   "outputs": [
    {
     "data": {
      "text/html": [
       "<div>\n",
       "<style scoped>\n",
       "    .dataframe tbody tr th:only-of-type {\n",
       "        vertical-align: middle;\n",
       "    }\n",
       "\n",
       "    .dataframe tbody tr th {\n",
       "        vertical-align: top;\n",
       "    }\n",
       "\n",
       "    .dataframe thead th {\n",
       "        text-align: right;\n",
       "    }\n",
       "</style>\n",
       "<table border=\"1\" class=\"dataframe\">\n",
       "  <thead>\n",
       "    <tr style=\"text-align: right;\">\n",
       "      <th></th>\n",
       "      <th>support</th>\n",
       "      <th>itemsets</th>\n",
       "      <th>length</th>\n",
       "    </tr>\n",
       "  </thead>\n",
       "  <tbody>\n",
       "    <tr>\n",
       "      <th>6</th>\n",
       "      <td>0.484906</td>\n",
       "      <td>(Footwear_NCW)</td>\n",
       "      <td>1</td>\n",
       "    </tr>\n",
       "    <tr>\n",
       "      <th>2</th>\n",
       "      <td>0.361321</td>\n",
       "      <td>(Footwear_ABC)</td>\n",
       "      <td>1</td>\n",
       "    </tr>\n",
       "    <tr>\n",
       "      <th>0</th>\n",
       "      <td>0.137736</td>\n",
       "      <td>(Clothing_ABB)</td>\n",
       "      <td>1</td>\n",
       "    </tr>\n",
       "    <tr>\n",
       "      <th>8</th>\n",
       "      <td>0.131132</td>\n",
       "      <td>(Footwear_NCW, Footwear_ABC)</td>\n",
       "      <td>2</td>\n",
       "    </tr>\n",
       "    <tr>\n",
       "      <th>4</th>\n",
       "      <td>0.120755</td>\n",
       "      <td>(Footwear_KBB)</td>\n",
       "      <td>1</td>\n",
       "    </tr>\n",
       "  </tbody>\n",
       "</table>\n",
       "</div>"
      ],
      "text/plain": [
       "    support                      itemsets  length\n",
       "6  0.484906                (Footwear_NCW)       1\n",
       "2  0.361321                (Footwear_ABC)       1\n",
       "0  0.137736                (Clothing_ABB)       1\n",
       "8  0.131132  (Footwear_NCW, Footwear_ABC)       2\n",
       "4  0.120755                (Footwear_KBB)       1"
      ]
     },
     "execution_count": 40,
     "metadata": {},
     "output_type": "execute_result"
    }
   ],
   "source": [
    "frequent_itemsets.head()"
   ]
  },
  {
   "cell_type": "markdown",
   "metadata": {},
   "source": [
    "Discussing with the business we can discuss on different strategies concentrating different items with **top support from Apriopri Algorithm.**"
   ]
  },
  {
   "cell_type": "markdown",
   "metadata": {},
   "source": [
    "We can concentrate on brands like **ABB, ABC and NCW** as they are known to give us the **highest customer acquisition. Footwear and clothing** products too are known to attract a lot of customers, keeping a **referral or one time coupon system** can be thought of for particular subsets."
   ]
  }
 ],
 "metadata": {
  "kernelspec": {
   "display_name": "Python 3",
   "language": "python",
   "name": "python3"
  },
  "language_info": {
   "codemirror_mode": {
    "name": "ipython",
    "version": 3
   },
   "file_extension": ".py",
   "mimetype": "text/x-python",
   "name": "python",
   "nbconvert_exporter": "python",
   "pygments_lexer": "ipython3",
   "version": "3.6.2"
  }
 },
 "nbformat": 4,
 "nbformat_minor": 2
}
